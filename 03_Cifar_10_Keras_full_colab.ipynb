{
  "nbformat": 4,
  "nbformat_minor": 0,
  "metadata": {
    "colab": {
      "name": "Cifar-10_Keras_full_colab.ipynb",
      "provenance": [],
      "authorship_tag": "ABX9TyNTFQoO1+WphWhkzwsFVuXb",
      "include_colab_link": true
    },
    "kernelspec": {
      "name": "python3",
      "display_name": "Python 3"
    },
    "accelerator": "GPU"
  },
  "cells": [
    {
      "cell_type": "markdown",
      "metadata": {
        "id": "view-in-github",
        "colab_type": "text"
      },
      "source": [
        "<a href=\"https://colab.research.google.com/github/SsHhKim/Deep-Learning-with-Colab/blob/master/Cifar_10_Keras_full_colab.ipynb\" target=\"_parent\"><img src=\"https://colab.research.google.com/assets/colab-badge.svg\" alt=\"Open In Colab\"/></a>"
      ]
    },
    {
      "cell_type": "code",
      "metadata": {
        "id": "xCR8vjEt8fGS",
        "colab_type": "code",
        "colab": {
          "base_uri": "https://localhost:8080/",
          "height": 35
        },
        "outputId": "01cefc96-21b9-408a-ff9d-049a4870364f"
      },
      "source": [
        "import tensorflow as tf\n",
        "from tensorflow import keras\n",
        "from keras.datasets import cifar10\n",
        "from keras.models import Sequential\n",
        "from keras.layers import Conv2D, MaxPooling2D, Flatten, Dense, Dropout\n",
        "from keras.layers import Activation, BatchNormalization\n",
        "from keras.regularizers import l2\n",
        "import numpy as np"
      ],
      "execution_count": 1,
      "outputs": [
        {
          "output_type": "stream",
          "text": [
            "Using TensorFlow backend.\n"
          ],
          "name": "stderr"
        }
      ]
    },
    {
      "cell_type": "code",
      "metadata": {
        "id": "GMtQ1hLJ8nUk",
        "colab_type": "code",
        "colab": {
          "base_uri": "https://localhost:8080/",
          "height": 125
        },
        "outputId": "361ba63b-4437-49f4-843c-736874884786"
      },
      "source": [
        "(X_train, y_train0), (X_test, y_test0) = cifar10.load_data()\n",
        "print(X_train.shape, X_train.dtype)\n",
        "print(y_train0.shape, y_train0.dtype)\n",
        "print(X_test.shape, X_test.dtype)\n",
        "print(y_test0.shape, y_test0.dtype)"
      ],
      "execution_count": 2,
      "outputs": [
        {
          "output_type": "stream",
          "text": [
            "Downloading data from https://www.cs.toronto.edu/~kriz/cifar-10-python.tar.gz\n",
            "170500096/170498071 [==============================] - 2s 0us/step\n",
            "(50000, 32, 32, 3) uint8\n",
            "(50000, 1) uint8\n",
            "(10000, 32, 32, 3) uint8\n",
            "(10000, 1) int64\n"
          ],
          "name": "stdout"
        }
      ]
    },
    {
      "cell_type": "code",
      "metadata": {
        "id": "-S7CeWDq8pss",
        "colab_type": "code",
        "colab": {
          "base_uri": "https://localhost:8080/",
          "height": 35
        },
        "outputId": "ffc9c58f-622e-4b19-c5c9-e47133e9ee1a"
      },
      "source": [
        "X_train = X_train.astype('float32')/255.0\n",
        "X_test = X_test.astype('float32')/255.0\n",
        "\n",
        "print(X_train.shape, X_train.dtype)"
      ],
      "execution_count": 3,
      "outputs": [
        {
          "output_type": "stream",
          "text": [
            "(50000, 32, 32, 3) float32\n"
          ],
          "name": "stdout"
        }
      ]
    },
    {
      "cell_type": "code",
      "metadata": {
        "id": "v8fNym-58qti",
        "colab_type": "code",
        "colab": {}
      },
      "source": [
        "Y_train = tf.keras.utils.to_categorical(y_train0, 10)\n",
        "Y_test = tf.keras.utils.to_categorical(y_test0, 10)"
      ],
      "execution_count": 4,
      "outputs": []
    },
    {
      "cell_type": "code",
      "metadata": {
        "id": "Teg2RPPf8qvq",
        "colab_type": "code",
        "colab": {}
      },
      "source": [
        "np.random.seed(0)\n",
        "weight_decay = 1e-4"
      ],
      "execution_count": 5,
      "outputs": []
    },
    {
      "cell_type": "code",
      "metadata": {
        "id": "BvkAGseV8qyy",
        "colab_type": "code",
        "colab": {
          "base_uri": "https://localhost:8080/",
          "height": 1000
        },
        "outputId": "1ecbe38e-42c2-440b-b1bf-21c3e206767f"
      },
      "source": [
        "model = Sequential()\n",
        "\n",
        "model.add(Conv2D(32, (3,3), padding='same', kernel_regularizer=l2(weight_decay), \n",
        "                 input_shape=X_train.shape[1:]))\n",
        "model.add(Activation('elu'))\n",
        "model.add(BatchNormalization())\n",
        "model.add(Conv2D(32, (3,3), padding='same', kernel_regularizer=l2(weight_decay)))\n",
        "model.add(Activation('elu'))\n",
        "model.add(BatchNormalization())\n",
        "model.add(MaxPooling2D(pool_size=(2,2)))\n",
        "model.add(Dropout(0.2))\n",
        " \n",
        "model.add(Conv2D(64, (3,3), padding='same', kernel_regularizer=l2(weight_decay)))\n",
        "model.add(Activation('elu'))\n",
        "model.add(BatchNormalization())\n",
        "model.add(Conv2D(64, (3,3), padding='same', kernel_regularizer=l2(weight_decay)))\n",
        "model.add(Activation('elu'))\n",
        "model.add(BatchNormalization())\n",
        "model.add(MaxPooling2D(pool_size=(2,2)))\n",
        "model.add(Dropout(0.3))\n",
        " \n",
        "model.add(Conv2D(128, (3,3), padding='same', kernel_regularizer=l2(weight_decay)))\n",
        "model.add(Activation('elu'))\n",
        "model.add(BatchNormalization())\n",
        "model.add(Conv2D(128, (3,3), padding='same', kernel_regularizer=l2(weight_decay)))\n",
        "model.add(Activation('elu'))\n",
        "model.add(BatchNormalization())\n",
        "model.add(MaxPooling2D(pool_size=(2,2)))\n",
        "model.add(Dropout(0.4))\n",
        " \n",
        "model.add(Flatten())\n",
        "model.add(Dense(10, activation='softmax'))\n",
        "\n",
        "model.summary()"
      ],
      "execution_count": 6,
      "outputs": [
        {
          "output_type": "stream",
          "text": [
            "Model: \"sequential_1\"\n",
            "_________________________________________________________________\n",
            "Layer (type)                 Output Shape              Param #   \n",
            "=================================================================\n",
            "conv2d_1 (Conv2D)            (None, 32, 32, 32)        896       \n",
            "_________________________________________________________________\n",
            "activation_1 (Activation)    (None, 32, 32, 32)        0         \n",
            "_________________________________________________________________\n",
            "batch_normalization_1 (Batch (None, 32, 32, 32)        128       \n",
            "_________________________________________________________________\n",
            "conv2d_2 (Conv2D)            (None, 32, 32, 32)        9248      \n",
            "_________________________________________________________________\n",
            "activation_2 (Activation)    (None, 32, 32, 32)        0         \n",
            "_________________________________________________________________\n",
            "batch_normalization_2 (Batch (None, 32, 32, 32)        128       \n",
            "_________________________________________________________________\n",
            "max_pooling2d_1 (MaxPooling2 (None, 16, 16, 32)        0         \n",
            "_________________________________________________________________\n",
            "dropout_1 (Dropout)          (None, 16, 16, 32)        0         \n",
            "_________________________________________________________________\n",
            "conv2d_3 (Conv2D)            (None, 16, 16, 64)        18496     \n",
            "_________________________________________________________________\n",
            "activation_3 (Activation)    (None, 16, 16, 64)        0         \n",
            "_________________________________________________________________\n",
            "batch_normalization_3 (Batch (None, 16, 16, 64)        256       \n",
            "_________________________________________________________________\n",
            "conv2d_4 (Conv2D)            (None, 16, 16, 64)        36928     \n",
            "_________________________________________________________________\n",
            "activation_4 (Activation)    (None, 16, 16, 64)        0         \n",
            "_________________________________________________________________\n",
            "batch_normalization_4 (Batch (None, 16, 16, 64)        256       \n",
            "_________________________________________________________________\n",
            "max_pooling2d_2 (MaxPooling2 (None, 8, 8, 64)          0         \n",
            "_________________________________________________________________\n",
            "dropout_2 (Dropout)          (None, 8, 8, 64)          0         \n",
            "_________________________________________________________________\n",
            "conv2d_5 (Conv2D)            (None, 8, 8, 128)         73856     \n",
            "_________________________________________________________________\n",
            "activation_5 (Activation)    (None, 8, 8, 128)         0         \n",
            "_________________________________________________________________\n",
            "batch_normalization_5 (Batch (None, 8, 8, 128)         512       \n",
            "_________________________________________________________________\n",
            "conv2d_6 (Conv2D)            (None, 8, 8, 128)         147584    \n",
            "_________________________________________________________________\n",
            "activation_6 (Activation)    (None, 8, 8, 128)         0         \n",
            "_________________________________________________________________\n",
            "batch_normalization_6 (Batch (None, 8, 8, 128)         512       \n",
            "_________________________________________________________________\n",
            "max_pooling2d_3 (MaxPooling2 (None, 4, 4, 128)         0         \n",
            "_________________________________________________________________\n",
            "dropout_3 (Dropout)          (None, 4, 4, 128)         0         \n",
            "_________________________________________________________________\n",
            "flatten_1 (Flatten)          (None, 2048)              0         \n",
            "_________________________________________________________________\n",
            "dense_1 (Dense)              (None, 10)                20490     \n",
            "=================================================================\n",
            "Total params: 309,290\n",
            "Trainable params: 308,394\n",
            "Non-trainable params: 896\n",
            "_________________________________________________________________\n"
          ],
          "name": "stdout"
        }
      ]
    },
    {
      "cell_type": "code",
      "metadata": {
        "id": "ToCbgtv18q06",
        "colab_type": "code",
        "colab": {}
      },
      "source": [
        "from keras.optimizers import RMSprop\n",
        "\n",
        "model.compile(loss='categorical_crossentropy', \n",
        "              optimizer=RMSprop(lr=0.001, decay=weight_decay), \n",
        "              metrics=['accuracy'])"
      ],
      "execution_count": 7,
      "outputs": []
    },
    {
      "cell_type": "code",
      "metadata": {
        "id": "VoB1PBYv8q27",
        "colab_type": "code",
        "colab": {}
      },
      "source": [
        "def lr_schedule(epoch):\n",
        "    lrate = 0.001\n",
        "    if epoch > 30:\n",
        "        lrate = 0.0005\n",
        "    if epoch > 40:\n",
        "        lrate = 0.0003\n",
        "    return lrate"
      ],
      "execution_count": 8,
      "outputs": []
    },
    {
      "cell_type": "code",
      "metadata": {
        "id": "EZol1KiC87-g",
        "colab_type": "code",
        "colab": {}
      },
      "source": [
        "#data augmentation\n",
        "from keras.preprocessing.image import ImageDataGenerator\n",
        "\n",
        "datagen = ImageDataGenerator(\n",
        "    rotation_range=15,\n",
        "    width_shift_range=0.1,\n",
        "    height_shift_range=0.1,\n",
        "    horizontal_flip=True,\n",
        ")\n",
        "datagen.fit(X_train)"
      ],
      "execution_count": 9,
      "outputs": []
    },
    {
      "cell_type": "code",
      "metadata": {
        "id": "8o6lkKd69Apr",
        "colab_type": "code",
        "colab": {}
      },
      "source": [
        "from keras.callbacks import LearningRateScheduler"
      ],
      "execution_count": 10,
      "outputs": []
    },
    {
      "cell_type": "code",
      "metadata": {
        "id": "UaGoNnSf9Arz",
        "colab_type": "code",
        "colab": {
          "base_uri": "https://localhost:8080/",
          "height": 1000
        },
        "outputId": "f7d0f15a-fe6f-45dc-c9a8-5797368f17dc"
      },
      "source": [
        "history = model.fit_generator(datagen.flow(X_train, Y_train, batch_size=64),\n",
        "                              steps_per_epoch=X_train.shape[0] // 64, epochs=50, \n",
        "                              verbose=2, validation_data=(X_test, Y_test), \n",
        "                              callbacks=[LearningRateScheduler(lr_schedule)])"
      ],
      "execution_count": 11,
      "outputs": [
        {
          "output_type": "stream",
          "text": [
            "Epoch 1/50\n",
            " - 50s - loss: 1.9392 - accuracy: 0.4160 - val_loss: 1.2833 - val_accuracy: 0.5852\n",
            "Epoch 2/50\n",
            " - 42s - loss: 1.2885 - accuracy: 0.5811 - val_loss: 1.1638 - val_accuracy: 0.6364\n",
            "Epoch 3/50\n",
            " - 43s - loss: 1.0924 - accuracy: 0.6474 - val_loss: 1.0692 - val_accuracy: 0.6827\n",
            "Epoch 4/50\n",
            " - 42s - loss: 0.9774 - accuracy: 0.6860 - val_loss: 0.8062 - val_accuracy: 0.7505\n",
            "Epoch 5/50\n",
            " - 42s - loss: 0.9111 - accuracy: 0.7106 - val_loss: 0.8887 - val_accuracy: 0.7372\n",
            "Epoch 6/50\n",
            " - 42s - loss: 0.8587 - accuracy: 0.7311 - val_loss: 0.8489 - val_accuracy: 0.7452\n",
            "Epoch 7/50\n",
            " - 42s - loss: 0.8185 - accuracy: 0.7451 - val_loss: 0.7913 - val_accuracy: 0.7664\n",
            "Epoch 8/50\n",
            " - 42s - loss: 0.7817 - accuracy: 0.7587 - val_loss: 0.7782 - val_accuracy: 0.7783\n",
            "Epoch 9/50\n",
            " - 42s - loss: 0.7538 - accuracy: 0.7695 - val_loss: 0.7191 - val_accuracy: 0.7905\n",
            "Epoch 10/50\n",
            " - 42s - loss: 0.7301 - accuracy: 0.7759 - val_loss: 0.6718 - val_accuracy: 0.8032\n",
            "Epoch 11/50\n",
            " - 42s - loss: 0.7146 - accuracy: 0.7851 - val_loss: 0.6391 - val_accuracy: 0.8149\n",
            "Epoch 12/50\n",
            " - 42s - loss: 0.6918 - accuracy: 0.7920 - val_loss: 0.7449 - val_accuracy: 0.7862\n",
            "Epoch 13/50\n",
            " - 43s - loss: 0.6786 - accuracy: 0.7975 - val_loss: 0.7672 - val_accuracy: 0.7837\n",
            "Epoch 14/50\n",
            " - 43s - loss: 0.6628 - accuracy: 0.8034 - val_loss: 0.6826 - val_accuracy: 0.8050\n",
            "Epoch 15/50\n",
            " - 43s - loss: 0.6445 - accuracy: 0.8094 - val_loss: 0.5926 - val_accuracy: 0.8330\n",
            "Epoch 16/50\n",
            " - 42s - loss: 0.6348 - accuracy: 0.8124 - val_loss: 0.6584 - val_accuracy: 0.8158\n",
            "Epoch 17/50\n",
            " - 42s - loss: 0.6322 - accuracy: 0.8134 - val_loss: 0.6568 - val_accuracy: 0.8152\n",
            "Epoch 18/50\n",
            " - 42s - loss: 0.6104 - accuracy: 0.8208 - val_loss: 0.5513 - val_accuracy: 0.8435\n",
            "Epoch 19/50\n",
            " - 42s - loss: 0.6058 - accuracy: 0.8238 - val_loss: 0.6071 - val_accuracy: 0.8295\n",
            "Epoch 20/50\n",
            " - 43s - loss: 0.5960 - accuracy: 0.8264 - val_loss: 0.6043 - val_accuracy: 0.8278\n",
            "Epoch 21/50\n",
            " - 43s - loss: 0.5885 - accuracy: 0.8266 - val_loss: 0.6084 - val_accuracy: 0.8285\n",
            "Epoch 22/50\n",
            " - 43s - loss: 0.5848 - accuracy: 0.8300 - val_loss: 0.5455 - val_accuracy: 0.8468\n",
            "Epoch 23/50\n",
            " - 43s - loss: 0.5747 - accuracy: 0.8324 - val_loss: 0.5967 - val_accuracy: 0.8305\n",
            "Epoch 24/50\n",
            " - 43s - loss: 0.5697 - accuracy: 0.8348 - val_loss: 0.5328 - val_accuracy: 0.8505\n",
            "Epoch 25/50\n",
            " - 43s - loss: 0.5629 - accuracy: 0.8360 - val_loss: 0.5334 - val_accuracy: 0.8526\n",
            "Epoch 26/50\n",
            " - 43s - loss: 0.5598 - accuracy: 0.8376 - val_loss: 0.5630 - val_accuracy: 0.8442\n",
            "Epoch 27/50\n",
            " - 43s - loss: 0.5510 - accuracy: 0.8396 - val_loss: 0.5154 - val_accuracy: 0.8580\n",
            "Epoch 28/50\n",
            " - 43s - loss: 0.5420 - accuracy: 0.8432 - val_loss: 0.5379 - val_accuracy: 0.8491\n",
            "Epoch 29/50\n",
            " - 43s - loss: 0.5360 - accuracy: 0.8461 - val_loss: 0.5074 - val_accuracy: 0.8606\n",
            "Epoch 30/50\n",
            " - 43s - loss: 0.5343 - accuracy: 0.8466 - val_loss: 0.5490 - val_accuracy: 0.8496\n",
            "Epoch 31/50\n",
            " - 43s - loss: 0.5266 - accuracy: 0.8483 - val_loss: 0.5235 - val_accuracy: 0.8552\n",
            "Epoch 32/50\n",
            " - 43s - loss: 0.5077 - accuracy: 0.8546 - val_loss: 0.4789 - val_accuracy: 0.8684\n",
            "Epoch 33/50\n",
            " - 43s - loss: 0.4919 - accuracy: 0.8584 - val_loss: 0.4757 - val_accuracy: 0.8702\n",
            "Epoch 34/50\n",
            " - 43s - loss: 0.4884 - accuracy: 0.8610 - val_loss: 0.5117 - val_accuracy: 0.8593\n",
            "Epoch 35/50\n",
            " - 43s - loss: 0.4881 - accuracy: 0.8621 - val_loss: 0.4922 - val_accuracy: 0.8655\n",
            "Epoch 36/50\n",
            " - 43s - loss: 0.4845 - accuracy: 0.8626 - val_loss: 0.4896 - val_accuracy: 0.8660\n",
            "Epoch 37/50\n",
            " - 43s - loss: 0.4799 - accuracy: 0.8631 - val_loss: 0.4948 - val_accuracy: 0.8644\n",
            "Epoch 38/50\n",
            " - 43s - loss: 0.4803 - accuracy: 0.8623 - val_loss: 0.4663 - val_accuracy: 0.8719\n",
            "Epoch 39/50\n",
            " - 43s - loss: 0.4767 - accuracy: 0.8636 - val_loss: 0.4851 - val_accuracy: 0.8686\n",
            "Epoch 40/50\n",
            " - 43s - loss: 0.4704 - accuracy: 0.8666 - val_loss: 0.4699 - val_accuracy: 0.8705\n",
            "Epoch 41/50\n",
            " - 43s - loss: 0.4700 - accuracy: 0.8644 - val_loss: 0.4852 - val_accuracy: 0.8681\n",
            "Epoch 42/50\n",
            " - 43s - loss: 0.4646 - accuracy: 0.8683 - val_loss: 0.4690 - val_accuracy: 0.8713\n",
            "Epoch 43/50\n",
            " - 42s - loss: 0.4528 - accuracy: 0.8702 - val_loss: 0.4780 - val_accuracy: 0.8719\n",
            "Epoch 44/50\n",
            " - 43s - loss: 0.4538 - accuracy: 0.8701 - val_loss: 0.4729 - val_accuracy: 0.8725\n",
            "Epoch 45/50\n",
            " - 42s - loss: 0.4545 - accuracy: 0.8706 - val_loss: 0.4655 - val_accuracy: 0.8729\n",
            "Epoch 46/50\n",
            " - 42s - loss: 0.4499 - accuracy: 0.8719 - val_loss: 0.4606 - val_accuracy: 0.8751\n",
            "Epoch 47/50\n",
            " - 42s - loss: 0.4496 - accuracy: 0.8727 - val_loss: 0.4576 - val_accuracy: 0.8756\n",
            "Epoch 48/50\n",
            " - 41s - loss: 0.4482 - accuracy: 0.8728 - val_loss: 0.4732 - val_accuracy: 0.8693\n",
            "Epoch 49/50\n",
            " - 42s - loss: 0.4480 - accuracy: 0.8723 - val_loss: 0.4640 - val_accuracy: 0.8737\n",
            "Epoch 50/50\n",
            " - 41s - loss: 0.4437 - accuracy: 0.8732 - val_loss: 0.4755 - val_accuracy: 0.8724\n"
          ],
          "name": "stdout"
        }
      ]
    },
    {
      "cell_type": "code",
      "metadata": {
        "id": "iwwRPPXB9AuD",
        "colab_type": "code",
        "colab": {
          "base_uri": "https://localhost:8080/",
          "height": 53
        },
        "outputId": "50211679-2502-4fbf-87e2-bacbaa19b292"
      },
      "source": [
        "scores = model.evaluate(X_test, Y_test, batch_size=128, verbose=2)\n",
        "print('\\nAccuracy: %.4f' % scores[1])"
      ],
      "execution_count": 12,
      "outputs": [
        {
          "output_type": "stream",
          "text": [
            "\n",
            "Accuracy: 0.8724\n"
          ],
          "name": "stdout"
        }
      ]
    },
    {
      "cell_type": "code",
      "metadata": {
        "id": "JbhgPnmqG5Jb",
        "colab_type": "code",
        "colab": {}
      },
      "source": [
        ""
      ],
      "execution_count": null,
      "outputs": []
    },
    {
      "cell_type": "code",
      "metadata": {
        "id": "HI436k1S9AwL",
        "colab_type": "code",
        "colab": {}
      },
      "source": [
        ""
      ],
      "execution_count": null,
      "outputs": []
    }
  ]
}
